{
 "cells": [
  {
   "attachments": {},
   "cell_type": "markdown",
   "metadata": {},
   "source": [
    "# Named Tuples\n",
    "\n",
    "`collections.namedtuples` can be used build tuples with a class name, field names and useful attributes. "
   ]
  },
  {
   "cell_type": "code",
   "execution_count": 1,
   "metadata": {},
   "outputs": [],
   "source": [
    "from collections import namedtuple"
   ]
  },
  {
   "attachments": {},
   "cell_type": "markdown",
   "metadata": {},
   "source": [
    "## How to define a named tuple?\n",
    "\n",
    "Two arguments are required in creating a named tuple:\n",
    "\n",
    "1. class name: `str`\n",
    "2. list of field names\n",
    "    - `str`, where each field name is delimited by a single space\n",
    "    - `List[str]`"
   ]
  },
  {
   "cell_type": "code",
   "execution_count": 2,
   "metadata": {},
   "outputs": [],
   "source": [
    "Philosopher = namedtuple('Philosopher', 'name country')\n",
    "socrates = Philosopher('Socrates', 'Greece')"
   ]
  },
  {
   "cell_type": "code",
   "execution_count": 3,
   "metadata": {},
   "outputs": [
    {
     "data": {
      "text/plain": [
       "('Socrates', 'Greece')"
      ]
     },
     "execution_count": 3,
     "metadata": {},
     "output_type": "execute_result"
    }
   ],
   "source": [
    "socrates.name, socrates.country"
   ]
  },
  {
   "cell_type": "code",
   "execution_count": 4,
   "metadata": {},
   "outputs": [
    {
     "data": {
      "text/plain": [
       "('Socrates', 'Greece')"
      ]
     },
     "execution_count": 4,
     "metadata": {},
     "output_type": "execute_result"
    }
   ],
   "source": [
    "socrates[0], socrates[1]"
   ]
  },
  {
   "cell_type": "code",
   "execution_count": 5,
   "metadata": {},
   "outputs": [
    {
     "data": {
      "text/plain": [
       "('Plato', 'Greece')"
      ]
     },
     "execution_count": 5,
     "metadata": {},
     "output_type": "execute_result"
    }
   ],
   "source": [
    "plato = Philosopher(name='Plato', country='Greece')\n",
    "plato.name, plato.country"
   ]
  },
  {
   "cell_type": "code",
   "execution_count": 6,
   "metadata": {},
   "outputs": [
    {
     "data": {
      "text/plain": [
       "('Aristotle', 'Greece')"
      ]
     },
     "execution_count": 6,
     "metadata": {},
     "output_type": "execute_result"
    }
   ],
   "source": [
    "info = {'name': 'Aristotle', 'country': 'Greece'}\n",
    "aristotle = Philosopher(**info)\n",
    "aristotle.name, aristotle.country"
   ]
  },
  {
   "attachments": {},
   "cell_type": "markdown",
   "metadata": {},
   "source": [
    "## Can we modify a named tuple?\n",
    "\n",
    "Named tuples are also immutable like the classic tuple. But, we can use method `_replace` to change a value of a field to obtain a new tuple."
   ]
  },
  {
   "cell_type": "code",
   "execution_count": 7,
   "metadata": {},
   "outputs": [
    {
     "data": {
      "text/plain": [
       "Book(title='Nicomachean Ethics', author=Philosopher(name='Aristotle', country='Greece'), genres=['non-fiction', 'philosophy'])"
      ]
     },
     "execution_count": 7,
     "metadata": {},
     "output_type": "execute_result"
    }
   ],
   "source": [
    "Book = namedtuple('Book', 'title author genres')\n",
    "book_info = {\n",
    "    'title': 'Nicomachean Ethics',\n",
    "    'author': aristotle,\n",
    "    'genres': ['non-fiction', 'philosophy'],\n",
    "}\n",
    "nicomachean = Book(**book_info)\n",
    "nicomachean"
   ]
  },
  {
   "cell_type": "code",
   "execution_count": 8,
   "metadata": {},
   "outputs": [
    {
     "data": {
      "text/plain": [
       "Book(title='Politics', author=Philosopher(name='Aristotle', country='Greece'), genres=['non-fiction', 'philosophy'])"
      ]
     },
     "execution_count": 8,
     "metadata": {},
     "output_type": "execute_result"
    }
   ],
   "source": [
    "politics = nicomachean._replace(title='Politics')\n",
    "politics"
   ]
  },
  {
   "attachments": {},
   "cell_type": "markdown",
   "metadata": {},
   "source": [
    "## What are some other useful attributes of a named tuple? "
   ]
  },
  {
   "attachments": {},
   "cell_type": "markdown",
   "metadata": {},
   "source": [
    "### `_asdict` returns a dictionary built from the named tuple"
   ]
  },
  {
   "cell_type": "code",
   "execution_count": 9,
   "metadata": {},
   "outputs": [
    {
     "data": {
      "text/plain": [
       "{'title': 'Politics',\n",
       " 'author': Philosopher(name='Aristotle', country='Greece'),\n",
       " 'genres': ['non-fiction', 'philosophy']}"
      ]
     },
     "execution_count": 9,
     "metadata": {},
     "output_type": "execute_result"
    }
   ],
   "source": [
    "dict(politics._asdict())"
   ]
  },
  {
   "attachments": {},
   "cell_type": "markdown",
   "metadata": {},
   "source": [
    "The dictionary can be serialized in JSON format."
   ]
  },
  {
   "cell_type": "code",
   "execution_count": 10,
   "metadata": {},
   "outputs": [
    {
     "data": {
      "text/plain": [
       "'{\"title\": \"Politics\", \"author\": [\"Aristotle\", \"Greece\"], \"genres\": [\"non-fiction\", \"philosophy\"]}'"
      ]
     },
     "execution_count": 10,
     "metadata": {},
     "output_type": "execute_result"
    }
   ],
   "source": [
    "import json\n",
    "json.dumps(politics._asdict())"
   ]
  },
  {
   "attachments": {},
   "cell_type": "markdown",
   "metadata": {},
   "source": [
    "### `_field_defaults` shows the default value of each field\n",
    "\n",
    "You can also specify the default values of the fields using `defaults` parameter. It accepts an iterable of whose values correspond to the rightmost fields of the class."
   ]
  },
  {
   "cell_type": "code",
   "execution_count": 11,
   "metadata": {},
   "outputs": [
    {
     "data": {
      "text/plain": [
       "Book(title='The Republic', author='Plato', genres='No Genre')"
      ]
     },
     "execution_count": 11,
     "metadata": {},
     "output_type": "execute_result"
    }
   ],
   "source": [
    "Book = namedtuple(\n",
    "    'Book', 'title author genres', defaults=['Unknown', 'No Genre']\n",
    ")\n",
    "republic = Book('The Republic', 'Plato')\n",
    "republic"
   ]
  },
  {
   "cell_type": "code",
   "execution_count": 12,
   "metadata": {},
   "outputs": [
    {
     "data": {
      "text/plain": [
       "{'author': 'Unknown', 'genres': 'No Genre'}"
      ]
     },
     "execution_count": 12,
     "metadata": {},
     "output_type": "execute_result"
    }
   ],
   "source": [
    "republic._field_defaults"
   ]
  },
  {
   "attachments": {},
   "cell_type": "markdown",
   "metadata": {},
   "source": [
    "### `_fields` shows the field names of a named tuple "
   ]
  },
  {
   "cell_type": "code",
   "execution_count": 13,
   "metadata": {},
   "outputs": [
    {
     "data": {
      "text/plain": [
       "('title', 'author', 'genres')"
      ]
     },
     "execution_count": 13,
     "metadata": {},
     "output_type": "execute_result"
    }
   ],
   "source": [
    "republic._fields"
   ]
  },
  {
   "attachments": {},
   "cell_type": "markdown",
   "metadata": {},
   "source": [
    "### `_make` creates a named tuple from an iterable"
   ]
  },
  {
   "cell_type": "code",
   "execution_count": 14,
   "metadata": {},
   "outputs": [
    {
     "data": {
      "text/plain": [
       "Book(title='Phaedrus', author=Philosopher(name='Plato', country='Greece'), genres=['non-fiction', 'philosophy'])"
      ]
     },
     "execution_count": 14,
     "metadata": {},
     "output_type": "execute_result"
    }
   ],
   "source": [
    "book_info = ('Phaedrus', plato, ['non-fiction', 'philosophy'])\n",
    "phaedrus = Book._make(book_info)\n",
    "phaedrus"
   ]
  },
  {
   "attachments": {},
   "cell_type": "markdown",
   "metadata": {},
   "source": [
    "Using `_make` is the same as passing an iterable when creating a named tuple."
   ]
  },
  {
   "cell_type": "code",
   "execution_count": 15,
   "metadata": {},
   "outputs": [
    {
     "data": {
      "text/plain": [
       "Book(title='Phaedrus', author=Philosopher(name='Plato', country='Greece'), genres=['non-fiction', 'philosophy'])"
      ]
     },
     "execution_count": 15,
     "metadata": {},
     "output_type": "execute_result"
    }
   ],
   "source": [
    "phaedrus = Book(*book_info)\n",
    "phaedrus"
   ]
  }
 ],
 "metadata": {
  "kernelspec": {
   "display_name": "Python 3",
   "language": "python",
   "name": "python3"
  },
  "language_info": {
   "codemirror_mode": {
    "name": "ipython",
    "version": 3
   },
   "file_extension": ".py",
   "mimetype": "text/x-python",
   "name": "python",
   "nbconvert_exporter": "python",
   "pygments_lexer": "ipython3",
   "version": "3.11.3"
  },
  "orig_nbformat": 4
 },
 "nbformat": 4,
 "nbformat_minor": 2
}
