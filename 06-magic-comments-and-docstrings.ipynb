{
 "cells": [
  {
   "attachments": {},
   "cell_type": "markdown",
   "metadata": {},
   "source": [
    "# Magic comments and docstrings\n",
    "\n",
    "Documentation is a set of written instructions, explanations, and examples that provide information about how to use and understand a particular software or programming language. It includes details about functions, classes, modules, variables, and their purpose, usage, and expected behavior."
   ]
  },
  {
   "attachments": {},
   "cell_type": "markdown",
   "metadata": {},
   "source": [
    "## Magic comments\n",
    "\n",
    "In Python, \"magic comments\" refer to special comments that modify the behavior of the interpreter or compiler in some way. These comments are often used to specify certain settings, configurations, or encodings for the Python interpreter to follow."
   ]
  },
  {
   "attachments": {},
   "cell_type": "markdown",
   "metadata": {},
   "source": [
    "### Shebang line\n",
    "\n",
    "Although not technically a comment, the shebang line is often placed at the beginning of a Python script to specify the interpreter to be used when executing the script. It typically looks like this:"
   ]
  },
  {
   "cell_type": "code",
   "execution_count": 1,
   "metadata": {},
   "outputs": [],
   "source": [
    "#!/usr/bin/env python3"
   ]
  },
  {
   "attachments": {},
   "cell_type": "markdown",
   "metadata": {},
   "source": [
    "### Source file encoding\n",
    "\n",
    "One common example of a magic comment in Python is the encoding declaration. It is used to specify the character encoding of a Python source file, particularly when non-ASCII characters are present. Versions starting with Python 3.0 treat UTF-8 as the defined encoding by default."
   ]
  },
  {
   "cell_type": "code",
   "execution_count": 2,
   "metadata": {},
   "outputs": [],
   "source": [
    "# -*- coding: utf-8 -*-"
   ]
  },
  {
   "attachments": {},
   "cell_type": "markdown",
   "metadata": {},
   "source": [
    "### Pragma directives\n",
    "\n",
    "Some tools or libraries may introduce pragma directives as magic comments to control specific behaviors or optimizations. These directives are usually tool-specific and are used to enable or disable certain features or settings within the code.\n",
    "\n",
    "For example, [Black](https://github.com/psf/black) code formatter can be disabled for some parts of your code adding `# fmt: off`. It can then be enabled again using `# fmt: on`."
   ]
  },
  {
   "cell_type": "code",
   "execution_count": 3,
   "metadata": {},
   "outputs": [],
   "source": [
    "# This block is formatted by Black.\n",
    "SECONDS_PER_MINUTE = 60\n",
    "SECONDS_PER_HOUR = 60 * SECONDS_PER_MINUTE\n",
    "SECONDS_PER_DAY = 24 * SECONDS_PER_HOUR\n",
    "SECONDS_PER_WEEK = 7 * SECONDS_PER_DAY"
   ]
  },
  {
   "cell_type": "code",
   "execution_count": 4,
   "metadata": {},
   "outputs": [],
   "source": [
    "# fmt: off\n",
    "# This block is not formatted by Black.\n",
    "SECONDS_PER_MINUTE = 60\n",
    "SECONDS_PER_HOUR   = 60 * SECONDS_PER_MINUTE\n",
    "SECONDS_PER_DAY    = 24 * SECONDS_PER_HOUR\n",
    "SECONDS_PER_WEEK   = 7 * SECONDS_PER_DAY\n",
    "# fmt: on"
   ]
  },
  {
   "attachments": {},
   "cell_type": "markdown",
   "metadata": {},
   "source": [
    "## Python docstrings\n",
    "\n",
    "Python docstrings are string literals used to document classes, functions, methods, and modules in Python code. They are enclosed in triple quotes (either single or double) and placed immediately after the definition of the code element they describe.\n",
    "\n",
    "Docstrings serve as a form of documentation within the code itself and can be accessed using the built-in `help()` function or by using the `.__doc__` attribute on objects. They provide information about the purpose, usage, and behavior of the code element they are associated with."
   ]
  },
  {
   "cell_type": "code",
   "execution_count": 5,
   "metadata": {},
   "outputs": [],
   "source": [
    "def calculate_sum(a, b):\n",
    "    \"\"\"\n",
    "    Calculates the sum of two numbers.\n",
    "\n",
    "    Args:\n",
    "        a (int): The first number.\n",
    "        b (int): The second number.\n",
    "\n",
    "    Returns:\n",
    "        int: The sum of the two numbers.\n",
    "    \"\"\"\n",
    "    return a + b"
   ]
  },
  {
   "cell_type": "code",
   "execution_count": 6,
   "metadata": {},
   "outputs": [
    {
     "name": "stdout",
     "output_type": "stream",
     "text": [
      "Help on function calculate_sum in module __main__:\n",
      "\n",
      "calculate_sum(a, b)\n",
      "    Calculates the sum of two numbers.\n",
      "    \n",
      "    Args:\n",
      "        a (int): The first number.\n",
      "        b (int): The second number.\n",
      "    \n",
      "    Returns:\n",
      "        int: The sum of the two numbers.\n",
      "\n"
     ]
    }
   ],
   "source": [
    "help(calculate_sum)"
   ]
  },
  {
   "cell_type": "code",
   "execution_count": 7,
   "metadata": {},
   "outputs": [
    {
     "name": "stdout",
     "output_type": "stream",
     "text": [
      "\n",
      "    Calculates the sum of two numbers.\n",
      "\n",
      "    Args:\n",
      "        a (int): The first number.\n",
      "        b (int): The second number.\n",
      "\n",
      "    Returns:\n",
      "        int: The sum of the two numbers.\n",
      "    \n"
     ]
    }
   ],
   "source": [
    "print(calculate_sum.__doc__)"
   ]
  },
  {
   "attachments": {},
   "cell_type": "markdown",
   "metadata": {},
   "source": [
    "## Tests inside docstrings\n",
    "\n",
    "You can write tests inside docstrings using the `doctest` module in Python. The `doctest` module allows you to include test cases and expected results within your docstrings and automatically execute and verify those tests."
   ]
  },
  {
   "cell_type": "code",
   "execution_count": 8,
   "metadata": {},
   "outputs": [],
   "source": [
    "def calculate_sum(a, b):\n",
    "    \"\"\"\n",
    "    Calculates the sum of two numbers.\n",
    "\n",
    "    Args:\n",
    "        a (int): The first number.\n",
    "        b (int): The second number.\n",
    "\n",
    "    Returns:\n",
    "        int: The sum of the two numbers.\n",
    "\n",
    "    Examples:\n",
    "        >>> calculate_sum(2, 3)\n",
    "        5\n",
    "        >>> calculate_sum(-1, 1)\n",
    "        0\n",
    "    \"\"\"\n",
    "    return a + b"
   ]
  },
  {
   "attachments": {},
   "cell_type": "markdown",
   "metadata": {},
   "source": [
    "In this example, the docstring includes test cases using the `>>>` syntax, followed by the expected results. The `doctest` module can recognize these test cases and execute them when the `doctest.testmod()` function is called.\n",
    "\n",
    "You can run the doctests by executing the following code:"
   ]
  },
  {
   "cell_type": "code",
   "execution_count": 9,
   "metadata": {},
   "outputs": [],
   "source": [
    "if __name__ == \"__main__\":\n",
    "    import doctest\n",
    "    doctest.testmod()"
   ]
  },
  {
   "attachments": {},
   "cell_type": "markdown",
   "metadata": {},
   "source": [
    "When you execute the script, the `doctest` module will discover and run the tests embedded in the docstrings. **If all the tests pass, no output is produced.** Otherwise, any test failures or errors will be displayed.\n",
    "\n",
    "Here's another example but with a failing test case."
   ]
  },
  {
   "cell_type": "code",
   "execution_count": 10,
   "metadata": {},
   "outputs": [],
   "source": [
    "def divide_numbers(dividend, divisor):\n",
    "    \"\"\"\n",
    "    Divides the dividend by the divisor.\n",
    "\n",
    "    Args:\n",
    "        dividend (float): The number to be divided.\n",
    "        divisor (float): The number to divide by.\n",
    "\n",
    "    Returns:\n",
    "        float: The quotient of the division.\n",
    "\n",
    "    Examples:\n",
    "        >>> divide_numbers(10, 2)\n",
    "        9999.0\n",
    "        >>> divide_numbers(0, 5)\n",
    "        0.0\n",
    "        >>> divide_numbers(8, 0)\n",
    "        Traceback (most recent call last):\n",
    "        ...\n",
    "        ZeroDivisionError: division by zero\n",
    "    \"\"\"\n",
    "    return dividend / divisor"
   ]
  },
  {
   "cell_type": "code",
   "execution_count": 11,
   "metadata": {},
   "outputs": [
    {
     "name": "stdout",
     "output_type": "stream",
     "text": [
      "**********************************************************************\n",
      "File \"__main__\", line 13, in __main__.divide_numbers\n",
      "Failed example:\n",
      "    divide_numbers(10, 2)\n",
      "Expected:\n",
      "    9999.0\n",
      "Got:\n",
      "    5.0\n",
      "**********************************************************************\n",
      "1 items had failures:\n",
      "   1 of   3 in __main__.divide_numbers\n",
      "***Test Failed*** 1 failures.\n"
     ]
    }
   ],
   "source": [
    "if __name__ == \"__main__\":\n",
    "    import doctest\n",
    "    doctest.testmod()"
   ]
  }
 ],
 "metadata": {
  "kernelspec": {
   "display_name": ".venv",
   "language": "python",
   "name": "python3"
  },
  "language_info": {
   "codemirror_mode": {
    "name": "ipython",
    "version": 3
   },
   "file_extension": ".py",
   "mimetype": "text/x-python",
   "name": "python",
   "nbconvert_exporter": "python",
   "pygments_lexer": "ipython3",
   "version": "3.11.3"
  },
  "orig_nbformat": 4
 },
 "nbformat": 4,
 "nbformat_minor": 2
}
