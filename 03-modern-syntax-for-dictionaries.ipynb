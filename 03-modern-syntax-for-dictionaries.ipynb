{
 "cells": [
  {
   "attachments": {},
   "cell_type": "markdown",
   "metadata": {},
   "source": [
    "# Modern Syntax for Dictionaries"
   ]
  },
  {
   "attachments": {},
   "cell_type": "markdown",
   "metadata": {},
   "source": [
    "## Create a dictionary with a dictionary comprehension\n",
    "\n",
    "Here is a list that represents a collection of information about different philosophers. Each element in the list is a tuple containing three elements:\n",
    "\n",
    "1. The philosopher's name as a string.\n",
    "2. The philosophical concept associated with the philosopher as a string.\n",
    "3. A list of works attributed to the philosopher."
   ]
  },
  {
   "cell_type": "code",
   "execution_count": 1,
   "metadata": {},
   "outputs": [],
   "source": [
    "record = [\n",
    "    (\n",
    "        'Nietzsche',\n",
    "        'Nihilism',\n",
    "        ['Thus Spoke Zarathustra', 'Beyond Good and Evil'],\n",
    "    ),\n",
    "    (\n",
    "        'Sartre',\n",
    "        'Existentialism',\n",
    "        ['Being and Nothingness', 'Nausea'],\n",
    "    ),\n",
    "    (\n",
    "        'Kierkegaard',\n",
    "        'Existentialism',\n",
    "        ['Fear and Trembling', 'The Sickness Unto Death'],\n",
    "    ),\n",
    "    (\n",
    "        'Beauvoir',\n",
    "        'Existentialism',\n",
    "        ['The Second Sex', 'The Ethics of Ambiguity'],\n",
    "    ),\n",
    "    (\n",
    "        'Camus',\n",
    "        'Absurdism',\n",
    "        ['The Stranger', 'The Myth of Sisyphus'],\n",
    "    ),\n",
    "]"
   ]
  },
  {
   "attachments": {},
   "cell_type": "markdown",
   "metadata": {},
   "source": [
    "We can use dictionary comprehension to create a dictionary where the philosopher names serve as the keys and the corresponding philosophical theories represent the associated values."
   ]
  },
  {
   "cell_type": "code",
   "execution_count": 2,
   "metadata": {},
   "outputs": [
    {
     "data": {
      "text/plain": [
       "{'Nietzsche': 'Nihilism',\n",
       " 'Sartre': 'Existentialism',\n",
       " 'Kierkegaard': 'Existentialism',\n",
       " 'Beauvoir': 'Existentialism',\n",
       " 'Camus': 'Absurdism'}"
      ]
     },
     "execution_count": 2,
     "metadata": {},
     "output_type": "execute_result"
    }
   ],
   "source": [
    "{name: theory for name, theory, _ in record}"
   ]
  },
  {
   "attachments": {},
   "cell_type": "markdown",
   "metadata": {},
   "source": [
    "Now, let's create a dictionary where we categorize each philosopher to their associated philosophical theory."
   ]
  },
  {
   "cell_type": "code",
   "execution_count": 3,
   "metadata": {},
   "outputs": [
    {
     "data": {
      "text/plain": [
       "{'Nihilism': ['Nietzsche'],\n",
       " 'Existentialism': ['Sartre', 'Kierkegaard', 'Beauvoir'],\n",
       " 'Absurdism': ['Camus']}"
      ]
     },
     "execution_count": 3,
     "metadata": {},
     "output_type": "execute_result"
    }
   ],
   "source": [
    "{\n",
    "    theory: [philosopher for philosopher, t, _ in record if t == theory]\n",
    "    for _, theory, _ in record\n",
    "}"
   ]
  },
  {
   "attachments": {},
   "cell_type": "markdown",
   "metadata": {},
   "source": [
    "## Unpack a dictionary\n",
    "\n",
    "We can unpack a dictionary using `**` symbol as a prefix to a dictionary literal, or a variable referencing a dictionary object. "
   ]
  },
  {
   "cell_type": "code",
   "execution_count": 4,
   "metadata": {},
   "outputs": [
    {
     "data": {
      "text/plain": [
       "[{'philosopher': 'Nietzsche',\n",
       "  'works': ['Thus Spoke Zarathustra', 'Beyond Good and Evil']},\n",
       " {'philosopher': 'Sartre', 'works': ['Being and Nothingness', 'Nausea']},\n",
       " {'philosopher': 'Kierkegaard',\n",
       "  'works': ['Fear and Trembling', 'The Sickness Unto Death']},\n",
       " {'philosopher': 'Beauvoir',\n",
       "  'works': ['The Second Sex', 'The Ethics of Ambiguity']},\n",
       " {'philosopher': 'Camus', 'works': ['The Stranger', 'The Myth of Sisyphus']}]"
      ]
     },
     "execution_count": 4,
     "metadata": {},
     "output_type": "execute_result"
    }
   ],
   "source": [
    "list_of_works = [\n",
    "    {'philosopher': philosopher, 'works': works} for philosopher, _, works in record\n",
    "]\n",
    "list_of_works"
   ]
  },
  {
   "cell_type": "code",
   "execution_count": 5,
   "metadata": {},
   "outputs": [
    {
     "name": "stdout",
     "output_type": "stream",
     "text": [
      "Nietzsche has written Thus Spoke Zarathustra, Beyond Good and Evil.\n"
     ]
    }
   ],
   "source": [
    "def print_works(philosopher, works):\n",
    "    \"\"\"\n",
    "    Displays all the works of a philosopher.\n",
    "    \"\"\"\n",
    "    print(f'{philosopher} has written {\", \".join(works)}.')\n",
    "\n",
    "print_works(**list_of_works[0])"
   ]
  },
  {
   "attachments": {},
   "cell_type": "markdown",
   "metadata": {},
   "source": [
    "## Match patterns of mappings"
   ]
  },
  {
   "attachments": {},
   "cell_type": "markdown",
   "metadata": {},
   "source": [
    "The match/case statement supports subjects that are mapping objects. Patterns for mappings look like dict literals, but they can match instances of any actual or virtual subclass of `collections.abc.Mapping`."
   ]
  },
  {
   "cell_type": "code",
   "execution_count": 6,
   "metadata": {},
   "outputs": [],
   "source": [
    "def get_philosophers(record: dict) -> list:\n",
    "    \"\"\"\n",
    "    Extracts and returns a list of philosophers from the given record.\n",
    "\n",
    "    Args:\n",
    "        record (dict): A dictionary representing a record containing\n",
    "            information about a philosophical theory.\n",
    "\n",
    "    Returns:\n",
    "        list: A list of philosopher names extracted from the record.\n",
    "\n",
    "    Raises:\n",
    "        ValueError: If the record is not in the expected format.\n",
    "    \"\"\"\n",
    "    match record:\n",
    "        case {'title': _, 'century': _, 'philosophers': [*names]}:\n",
    "            return names\n",
    "        case {'title': _, 'century': _, 'philosopher': name}:\n",
    "            return [name]\n",
    "        case _:\n",
    "            raise ValueError(f'Invalid \"theory\" record: {record}')"
   ]
  },
  {
   "attachments": {},
   "cell_type": "markdown",
   "metadata": {},
   "source": [
    "\n",
    "Notice in `get_philosophers` function that `_` is used as a temporary variable to catch any value of a key-value pair."
   ]
  },
  {
   "cell_type": "code",
   "execution_count": 7,
   "metadata": {},
   "outputs": [
    {
     "data": {
      "text/plain": [
       "['Kierkegaard', 'Sartre', 'Beauvoir']"
      ]
     },
     "execution_count": 7,
     "metadata": {},
     "output_type": "execute_result"
    }
   ],
   "source": [
    "existentialism = {\n",
    "    'title': 'existentialism',\n",
    "    'century': 19,\n",
    "    'philosophers': ['Kierkegaard', 'Sartre', 'Beauvoir'],\n",
    "}\n",
    "\n",
    "get_philosophers(existentialism)"
   ]
  },
  {
   "cell_type": "code",
   "execution_count": 8,
   "metadata": {},
   "outputs": [
    {
     "data": {
      "text/plain": [
       "['Camus']"
      ]
     },
     "execution_count": 8,
     "metadata": {},
     "output_type": "execute_result"
    }
   ],
   "source": [
    "absurdism = {\n",
    "    'title': 'absurdism',\n",
    "    'century': 19,\n",
    "    'philosopher': 'Camus',\n",
    "    'books': ['The Myth of Sisyphus'],\n",
    "    'related_theories': ['existentialism', 'nihilism'],\n",
    "}\n",
    "\n",
    "get_philosophers(absurdism)"
   ]
  },
  {
   "attachments": {},
   "cell_type": "markdown",
   "metadata": {},
   "source": [
    "`absurdism` dictionary is matched despite having extra key-value pairs."
   ]
  },
  {
   "cell_type": "code",
   "execution_count": 9,
   "metadata": {},
   "outputs": [
    {
     "ename": "ValueError",
     "evalue": "Invalid \"theory\" record: {'category': 'Logic'}",
     "output_type": "error",
     "traceback": [
      "\u001b[1;31m---------------------------------------------------------------------------\u001b[0m",
      "\u001b[1;31mValueError\u001b[0m                                Traceback (most recent call last)",
      "Cell \u001b[1;32mIn[9], line 2\u001b[0m\n\u001b[0;32m      1\u001b[0m record \u001b[39m=\u001b[39m {\u001b[39m'\u001b[39m\u001b[39mcategory\u001b[39m\u001b[39m'\u001b[39m: \u001b[39m'\u001b[39m\u001b[39mLogic\u001b[39m\u001b[39m'\u001b[39m}\n\u001b[1;32m----> 2\u001b[0m get_philosophers(record)\n",
      "Cell \u001b[1;32mIn[6], line 21\u001b[0m, in \u001b[0;36mget_philosophers\u001b[1;34m(record)\u001b[0m\n\u001b[0;32m     19\u001b[0m     \u001b[39mreturn\u001b[39;00m [name]\n\u001b[0;32m     20\u001b[0m \u001b[39mcase\u001b[39;00m\u001b[39m \u001b[39m\u001b[39m_\u001b[39;00m:\n\u001b[1;32m---> 21\u001b[0m     \u001b[39mraise\u001b[39;00m \u001b[39mValueError\u001b[39;00m(\u001b[39mf\u001b[39m\u001b[39m'\u001b[39m\u001b[39mInvalid \u001b[39m\u001b[39m\"\u001b[39m\u001b[39mtheory\u001b[39m\u001b[39m\"\u001b[39m\u001b[39m record: \u001b[39m\u001b[39m{\u001b[39;00mrecord\u001b[39m}\u001b[39;00m\u001b[39m'\u001b[39m)\n",
      "\u001b[1;31mValueError\u001b[0m: Invalid \"theory\" record: {'category': 'Logic'}"
     ]
    }
   ],
   "source": [
    "record = {'category': 'Logic'}\n",
    "get_philosophers(record)"
   ]
  }
 ],
 "metadata": {
  "kernelspec": {
   "display_name": ".venv",
   "language": "python",
   "name": "python3"
  },
  "language_info": {
   "codemirror_mode": {
    "name": "ipython",
    "version": 3
   },
   "file_extension": ".py",
   "mimetype": "text/x-python",
   "name": "python",
   "nbconvert_exporter": "python",
   "pygments_lexer": "ipython3",
   "version": "3.11.3"
  },
  "orig_nbformat": 4
 },
 "nbformat": 4,
 "nbformat_minor": 2
}
