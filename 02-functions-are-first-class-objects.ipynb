{
 "cells": [
  {
   "attachments": {},
   "cell_type": "markdown",
   "metadata": {},
   "source": [
    "# Functions are first-class objects"
   ]
  },
  {
   "attachments": {},
   "cell_type": "markdown",
   "metadata": {},
   "source": [
    "## Create a function at runtime"
   ]
  },
  {
   "cell_type": "code",
   "execution_count": 1,
   "metadata": {},
   "outputs": [
    {
     "name": "stdout",
     "output_type": "stream",
     "text": [
      "Hello!\n"
     ]
    }
   ],
   "source": [
    "def create_and_invoke_function():\n",
    "    # Define the function code as a string\n",
    "    function_code = 'def dynamic_function(): print(\"Hello!\")'\n",
    "\n",
    "    # Compile the function code into a code object\n",
    "    compiled_code = compile(function_code, '<string>', 'exec')\n",
    "\n",
    "    # Create a global namespace for the function\n",
    "    global_namespace = {}\n",
    "    \n",
    "    # Execute the compiled code in the global namespace\n",
    "    exec(compiled_code, global_namespace)\n",
    "\n",
    "    # Get the dynamically created function from the global namespace\n",
    "    dynamic_function = global_namespace['dynamic_function']\n",
    "\n",
    "    # Invoke the dynamically created function\n",
    "    dynamic_function()\n",
    "\n",
    "# Call the function to create and invoke the dynamically created function\n",
    "create_and_invoke_function()"
   ]
  },
  {
   "attachments": {},
   "cell_type": "markdown",
   "metadata": {},
   "source": [
    "## Assign a function to a variables"
   ]
  },
  {
   "cell_type": "code",
   "execution_count": 2,
   "metadata": {},
   "outputs": [
    {
     "data": {
      "text/plain": [
       "'!olleH'"
      ]
     },
     "execution_count": 2,
     "metadata": {},
     "output_type": "execute_result"
    }
   ],
   "source": [
    "def reverse(seq):\n",
    "    '''\n",
    "    Reverses the order of elements in a sequence.\n",
    "\n",
    "    Parameters:\n",
    "        seq (sequence): The sequence to be reversed.\n",
    "\n",
    "    Returns:\n",
    "        sequence: The reversed sequence.\n",
    "\n",
    "    Example:\n",
    "        >>> reverse([1, 2, 3, 4])\n",
    "        [4, 3, 2, 1]\n",
    "        >>> reverse(\"Hello\")\n",
    "        'olleH'\n",
    "    '''\n",
    "    return seq[::-1]\n",
    "\n",
    "flip = reverse\n",
    "flip('Hello!')"
   ]
  },
  {
   "cell_type": "code",
   "execution_count": 4,
   "metadata": {},
   "outputs": [
    {
     "name": "stdout",
     "output_type": "stream",
     "text": [
      "\n",
      "    Reverses the order of elements in a sequence.\n",
      "\n",
      "    Parameters:\n",
      "        seq (sequence): The sequence to be reversed.\n",
      "\n",
      "    Returns:\n",
      "        sequence: The reversed sequence.\n",
      "\n",
      "    Example:\n",
      "        >>> reverse([1, 2, 3, 4])\n",
      "        [4, 3, 2, 1]\n",
      "        >>> reverse(\"Hello\")\n",
      "        'olleH'\n",
      "    \n"
     ]
    }
   ],
   "source": [
    "print(reverse.__doc__)"
   ]
  },
  {
   "attachments": {},
   "cell_type": "markdown",
   "metadata": {},
   "source": [
    "## Assign a function to an element in a data structure"
   ]
  },
  {
   "cell_type": "code",
   "execution_count": 5,
   "metadata": {},
   "outputs": [
    {
     "data": {
      "text/plain": [
       "[5, 4, 3, 2, 1]"
      ]
     },
     "execution_count": 5,
     "metadata": {},
     "output_type": "execute_result"
    }
   ],
   "source": [
    "functions = [reverse]\n",
    "functions.append(reverse)\n",
    "functions[0]([1, 2, 3, 4, 5])"
   ]
  },
  {
   "attachments": {},
   "cell_type": "markdown",
   "metadata": {},
   "source": [
    "## Take or return functions with higher-order functions"
   ]
  },
  {
   "attachments": {},
   "cell_type": "markdown",
   "metadata": {},
   "source": [
    "### Pass a function as an argument to another function"
   ]
  },
  {
   "cell_type": "code",
   "execution_count": 8,
   "metadata": {},
   "outputs": [
    {
     "data": {
      "text/plain": [
       "['fire', 'earth', 'water', 'air']"
      ]
     },
     "execution_count": 8,
     "metadata": {},
     "output_type": "execute_result"
    }
   ],
   "source": [
    "elements = ['earth', 'fire', 'air', 'water']\n",
    "\n",
    "# Sort the elements lexicographically starting from the last character\n",
    "arranged_elements = sorted(elements, key=reverse)\n",
    "arranged_elements"
   ]
  },
  {
   "attachments": {},
   "cell_type": "markdown",
   "metadata": {},
   "source": [
    "### Return a function as a result of another function"
   ]
  },
  {
   "attachments": {},
   "cell_type": "markdown",
   "metadata": {},
   "source": [
    "#### Use Case: Function decorators\n",
    "\n",
    "A decorator is a higher-order function that takes a function as input and returns a modified or enhanced version of that function. Decorators are commonly used to add functionality to existing functions without modifying their source code. They return a new function that typically wraps the original function with additional behavior."
   ]
  },
  {
   "cell_type": "code",
   "execution_count": 17,
   "metadata": {},
   "outputs": [],
   "source": [
    "def logger_decorator(func):\n",
    "    def wrapper(*args, **kwargs):\n",
    "        print(\"Calling function:\", func.__name__)\n",
    "        result = func(*args, **kwargs)\n",
    "        print(\"Function\", func.__name__, \"execution complete\")\n",
    "        return result\n",
    "    return wrapper"
   ]
  },
  {
   "cell_type": "code",
   "execution_count": 18,
   "metadata": {},
   "outputs": [
    {
     "name": "stdout",
     "output_type": "stream",
     "text": [
      "Calling function: add_numbers\n",
      "Function add_numbers execution complete\n",
      "Result: 5\n"
     ]
    }
   ],
   "source": [
    "def add_numbers(a, b):\n",
    "    return a + b\n",
    "\n",
    "decorated_add_numbers = logger_decorator(add_numbers)\n",
    "result = decorated_add_numbers(2, 3) \n",
    "print(\"Result:\", result)"
   ]
  },
  {
   "attachments": {},
   "cell_type": "markdown",
   "metadata": {},
   "source": [
    "We could achieve the same effect by using `@` symbol."
   ]
  },
  {
   "cell_type": "code",
   "execution_count": 19,
   "metadata": {},
   "outputs": [
    {
     "name": "stdout",
     "output_type": "stream",
     "text": [
      "Calling function: add_numbers\n",
      "Function add_numbers execution complete\n",
      "Result: 5\n"
     ]
    }
   ],
   "source": [
    "@ logger_decorator\n",
    "def add_numbers(a, b):\n",
    "    return a + b\n",
    "\n",
    "result = add_numbers(2, 3) \n",
    "print(\"Result:\", result)"
   ]
  },
  {
   "attachments": {},
   "cell_type": "markdown",
   "metadata": {},
   "source": [
    "### Use `lambda` expressions for higher-order functions"
   ]
  },
  {
   "cell_type": "code",
   "execution_count": 13,
   "metadata": {},
   "outputs": [
    {
     "data": {
      "text/plain": [
       "[('Anaxagoras', 500), ('Anaximenes', 586), ('Anaximander', 610)]"
      ]
     },
     "execution_count": 13,
     "metadata": {},
     "output_type": "execute_result"
    }
   ],
   "source": [
    "birth_years = {\n",
    "    'Anaxagoras': 500,\n",
    "    'Anaximander': 610,\n",
    "    'Anaximenes': 586,\n",
    "}\n",
    "\n",
    "# Sort entries in dictionary by its value\n",
    "sorted(birth_years.items(), key=lambda x: x[1])"
   ]
  }
 ],
 "metadata": {
  "kernelspec": {
   "display_name": ".venv",
   "language": "python",
   "name": "python3"
  },
  "language_info": {
   "codemirror_mode": {
    "name": "ipython",
    "version": 3
   },
   "file_extension": ".py",
   "mimetype": "text/x-python",
   "name": "python",
   "nbconvert_exporter": "python",
   "pygments_lexer": "ipython3",
   "version": "3.11.3"
  },
  "orig_nbformat": 4
 },
 "nbformat": 4,
 "nbformat_minor": 2
}
