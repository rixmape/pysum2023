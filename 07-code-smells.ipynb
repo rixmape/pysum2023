{
 "cells": [
  {
   "attachments": {},
   "cell_type": "markdown",
   "metadata": {},
   "source": [
    "# Code smells\n",
    "\n",
    "A code smell refers to a characteristic or symptom in the source code that indicates a deeper problem. It suggests that there might be an issue with the design or implementation of the code."
   ]
  },
  {
   "attachments": {},
   "cell_type": "markdown",
   "metadata": {},
   "source": [
    "## Use functions to avoid duplicate codes\n",
    "\n",
    "Duplicate code is considered a code smell because it violates the principle of code reusability and maintainability. It leads to several issues such as increased maintenance effort, difficulty in making changes consistently across duplicated sections, and increased likelihood of introducing bugs. It also makes the codebase harder to understand and can result in code inconsistencies.\n",
    "\n",
    "Here's a simple example demonstrating duplicate code for user registration logic in Python:"
   ]
  },
  {
   "cell_type": "code",
   "execution_count": 1,
   "metadata": {},
   "outputs": [],
   "source": [
    "def register_user_v1(username, password):\n",
    "    # Validation logic\n",
    "    if not username or not password:\n",
    "        return \"Error: Username and password are required.\"\n",
    "\n",
    "    # User creation logic\n",
    "    user = User(username, password)\n",
    "    user.save()\n",
    "\n",
    "    # Confirmation email logic\n",
    "    send_confirmation_email(user.email)\n",
    "\n",
    "\n",
    "def register_user_v2(username, password):\n",
    "    # Validation logic\n",
    "    if not username or not password:\n",
    "        return \"Error: Username and password are required.\"\n",
    "\n",
    "    # User creation logic\n",
    "    user = User(username, password)\n",
    "    user.save()\n",
    "\n",
    "    # Confirmation email logic\n",
    "    send_confirmation_email(user.email)"
   ]
  },
  {
   "attachments": {},
   "cell_type": "markdown",
   "metadata": {},
   "source": [
    "In the above code, we have two functions `register_user_v1` and `register_user_v2` that perform the same validation, user creation, and confirmation email logic. This duplication of code can be considered a code smell and should be refactored to eliminate redundancy.\n",
    "\n",
    "To address the problem of duplicate code, we can refactor the code by introducing a separate function that handles the common logic."
   ]
  },
  {
   "cell_type": "code",
   "execution_count": 2,
   "metadata": {},
   "outputs": [],
   "source": [
    "def register_user(username, password):\n",
    "    # Validation logic\n",
    "    if not username or not password:\n",
    "        return \"Error: Username and password are required.\"\n",
    "\n",
    "    # User creation logic\n",
    "    user = User(username, password)\n",
    "    user.save()\n",
    "\n",
    "    # Confirmation email logic\n",
    "    send_confirmation_email(user.email)\n",
    "\n",
    "\n",
    "def register_user_v1(username, password):\n",
    "    register_user(username, password)\n",
    "\n",
    "\n",
    "def register_user_v2(username, password):\n",
    "    register_user(username, password)"
   ]
  },
  {
   "attachments": {},
   "cell_type": "markdown",
   "metadata": {},
   "source": [
    "In this refactored code, the common registration logic is moved into a new `register_user` function. Both `register_user_v1` and `register_user_v2` functions now simply call the `register_user` function, eliminating the duplication. This approach promotes code reuse, improves maintainability, and ensures consistency in the registration process across different endpoints or areas of the codebase."
   ]
  },
  {
   "attachments": {},
   "cell_type": "markdown",
   "metadata": {},
   "source": [
    "## Use constants to replace magic numbers\n",
    "\n",
    "A magic number is considered a code smell because it refers to the usage of unnamed or hard-coded numerical values directly in the code without any explanation or clear context. This can make the code less readable, less maintainable, and more prone to errors. Magic numbers lack semantic meaning, and their presence makes it difficult for developers to understand the purpose and significance of those values.\n",
    "\n",
    "Here are some functions that uses magic numbers:"
   ]
  },
  {
   "cell_type": "code",
   "execution_count": 3,
   "metadata": {},
   "outputs": [],
   "source": [
    "def calculate_area(radius):\n",
    "    return 3.14159 * radius * radius"
   ]
  },
  {
   "cell_type": "code",
   "execution_count": 4,
   "metadata": {},
   "outputs": [],
   "source": [
    "def calculate_discount(price):\n",
    "    if price > 100:\n",
    "        return price * 0.2\n",
    "    else:\n",
    "        return price * 0.1"
   ]
  },
  {
   "cell_type": "code",
   "execution_count": 5,
   "metadata": {},
   "outputs": [],
   "source": [
    "def get_day_of_week(day_number):\n",
    "    if day_number == 1:\n",
    "        return \"Monday\"\n",
    "    elif day_number == 2:\n",
    "        return \"Tuesday\"\n",
    "    elif day_number == 3:\n",
    "        return \"Wednesday\"\n",
    "    elif day_number == 4:\n",
    "        return \"Thursday\"\n",
    "    elif day_number == 5:\n",
    "        return \"Friday\"\n",
    "    elif day_number == 6:\n",
    "        return \"Saturday\"\n",
    "    elif day_number == 7:\n",
    "        return \"Sunday\"\n",
    "    else:\n",
    "        return \"Invalid day\""
   ]
  },
  {
   "attachments": {},
   "cell_type": "markdown",
   "metadata": {},
   "source": [
    "We can refactor each function by writinga comments to clarify each magic number. But a better solution is to use constants. These are variables whose names are written in uppercase letters to indicate that their values shouldn’t change after their initial assignment. Constants are often defined as global variables."
   ]
  },
  {
   "cell_type": "code",
   "execution_count": 6,
   "metadata": {},
   "outputs": [],
   "source": [
    "PI = 3.14159\n",
    "DISCOUNT_THRESHOLD = 100\n",
    "WEEKDAYS = {\n",
    "    1: \"Monday\",\n",
    "    2: \"Tuesday\",\n",
    "    3: \"Wednesday\",\n",
    "    4: \"Thursday\",\n",
    "    5: \"Friday\",\n",
    "    6: \"Saturday\",\n",
    "    7: \"Sunday\",\n",
    "}"
   ]
  },
  {
   "cell_type": "code",
   "execution_count": 7,
   "metadata": {},
   "outputs": [],
   "source": [
    "def calculate_area(radius):\n",
    "    return PI * radius * radius"
   ]
  },
  {
   "cell_type": "code",
   "execution_count": 8,
   "metadata": {},
   "outputs": [],
   "source": [
    "def calculate_discount(price):\n",
    "    if price > DISCOUNT_THRESHOLD:\n",
    "        return price * 0.2\n",
    "    else:\n",
    "        return price * 0.1"
   ]
  },
  {
   "cell_type": "code",
   "execution_count": 9,
   "metadata": {},
   "outputs": [],
   "source": [
    "def get_day_of_week(day_number):\n",
    "    if day_number in WEEKDAYS:\n",
    "        return WEEKDAYS[day_number]\n",
    "    else:\n",
    "        return \"Invalid day\""
   ]
  },
  {
   "attachments": {},
   "cell_type": "markdown",
   "metadata": {},
   "source": [
    "## Remove commented-out code\n",
    "\n",
    "Commented-out code is considered a code smell because it represents code that is intentionally or unintentionally disabled by adding comment tags (# in Python) around it. Commented-out code should ideally be removed from the codebase before committing it to version control or before deploying the code."
   ]
  },
  {
   "cell_type": "code",
   "execution_count": 10,
   "metadata": {},
   "outputs": [],
   "source": [
    "# x = 5\n",
    "# y = 10\n",
    "# z = x + y\n",
    "# print(z)\n",
    "\n",
    "def multiply(a, b):\n",
    "    # return a * b\n",
    "\n",
    "    # Temporary fix: use addition instead\n",
    "    result = 0\n",
    "    for _ in range(b):\n",
    "        result += a\n",
    "    return result"
   ]
  },
  {
   "cell_type": "code",
   "execution_count": 11,
   "metadata": {},
   "outputs": [],
   "source": [
    "def multiply(a, b):\n",
    "    result = 0\n",
    "    for _ in range(b):\n",
    "        result += a\n",
    "    return result"
   ]
  },
  {
   "attachments": {},
   "cell_type": "markdown",
   "metadata": {},
   "source": [
    "## Remove dead code\n",
    "\n",
    "Dead code refers to portions of the code that are no longer executed and have become obsolete or redundant. It can be the result of commented-out code, unused variables or functions, unreachable code, or code that will never be executed due to conditional statements. Dead code adds unnecessary complexity and should be identified and removed from the codebase.\n",
    "\n",
    "Here's an example of an unreachable code:"
   ]
  },
  {
   "cell_type": "code",
   "execution_count": 12,
   "metadata": {},
   "outputs": [],
   "source": [
    "def greet(name):\n",
    "    if name:\n",
    "        print(\"Hello, \" + name + \"!\")\n",
    "    else:\n",
    "        print(\"Hello, there!\")\n",
    "        return  # Unreachable code\n",
    "    print(\"Welcome!\")  # Unreachable code"
   ]
  },
  {
   "attachments": {},
   "cell_type": "markdown",
   "metadata": {},
   "source": [
    "In the above code, the line `print(\"Welcome!\")` is unreachable code. It occurs after the `return` statement within the `else` block. Since the `return` statement will exit the function, the subsequent line of code will never be executed. Unreachable code like this serves no purpose and can be safely removed to improve code clarity and efficiency."
   ]
  },
  {
   "attachments": {},
   "cell_type": "markdown",
   "metadata": {},
   "source": [
    "## Avoid nested comprehensions\n",
    "\n",
    "Nested comprehensions should be avoided or used judiciously because they can result in code that is difficult to read, understand, and maintain. It is better to expand nested comprehensions into one or more loops instead."
   ]
  },
  {
   "cell_type": "code",
   "execution_count": 13,
   "metadata": {},
   "outputs": [],
   "source": [
    "def pretty_print_table(matrix: list[list[int]]) -> None:\n",
    "    \"\"\"Displays table in fixed-width columns.\"\"\"\n",
    "    for row in matrix:\n",
    "        for element in row:\n",
    "            print(f\"{element:4d}\", end=\" \")  # Adjust the width as needed\n",
    "        print()"
   ]
  },
  {
   "cell_type": "code",
   "execution_count": 14,
   "metadata": {},
   "outputs": [
    {
     "name": "stdout",
     "output_type": "stream",
     "text": [
      "   1    2    3    4    5 \n",
      "   2    4    6    8   10 \n",
      "   3    6    9   12   15 \n",
      "   4    8   12   16   20 \n",
      "   5   10   15   20   25 \n"
     ]
    }
   ],
   "source": [
    "n = 5\n",
    "\n",
    "multiplication_table = [\n",
    "    [i * j for j in range(1, n + 1)] for i in range(1, n + 1)\n",
    "]\n",
    "\n",
    "pretty_print_table(multiplication_table)"
   ]
  },
  {
   "cell_type": "code",
   "execution_count": 15,
   "metadata": {},
   "outputs": [
    {
     "name": "stdout",
     "output_type": "stream",
     "text": [
      "   1    2    3    4    5 \n",
      "   2    4    6    8   10 \n",
      "   3    6    9   12   15 \n",
      "   4    8   12   16   20 \n",
      "   5   10   15   20   25 \n"
     ]
    }
   ],
   "source": [
    "n = 5\n",
    "\n",
    "multiplication_table = []\n",
    "for i in range(1, n + 1):\n",
    "    row = []\n",
    "    for j in range(1, n + 1):\n",
    "        row.append(i * j)\n",
    "    multiplication_table.append(row)\n",
    "\n",
    "pretty_print_table(multiplication_table)"
   ]
  },
  {
   "attachments": {},
   "cell_type": "markdown",
   "metadata": {},
   "source": [
    "## More examples of code smells\n",
    "\n",
    "1. **Long Method**\n",
    "\n",
    "    A method or function that is excessively long and performs too many tasks, making it hard to understand, test, and maintain.\n",
    "\n",
    "2. **Large Class**\n",
    "\n",
    "    A class that has grown too large, accumulating too many responsibilities and becoming difficult to comprehend, test, and reuse.\n",
    "\n",
    "3. **Primitive Obsession**\n",
    "\n",
    "    Overuse of primitive data types instead of creating custom classes or structures, leading to code that is harder to understand, maintain, and extend.\n",
    "\n",
    "4. **Shotgun Surgery**\n",
    "\n",
    "    When a single change requires modifying multiple unrelated classes or modules, indicating poor code organization and tight coupling.\n",
    "\n",
    "5. **Feature Envy**\n",
    "\n",
    "    A class that uses excessive data or behavior from another class, indicating a potential design issue and suggesting that the responsibilities should be better distributed.\n",
    "\n",
    "6. **Inappropriate Intimacy**\n",
    "\n",
    "    When two classes are too tightly coupled or depend too much on each other, violating the principle of encapsulation and making it difficult to modify or test them independently.\n",
    "\n",
    "7. **Data Clumps**\n",
    "\n",
    "    When the same group of data items (such as parameters) frequently appear together in multiple places, suggesting that they should be encapsulated into their own class or structure.\n",
    "\n",
    "8. **Switch Statements**\n",
    "\n",
    "    Excessive use of switch or if-else statements, indicating a lack of polymorphism or abstraction, and making the code harder to extend and maintain.\n",
    "\n",
    "9. **Temporary Field**\n",
    "\n",
    "    When an object has an instance variable that is set but never used, indicating unnecessary or forgotten code that should be removed.\n",
    "\n",
    "10. **Inconsistent Naming**\n",
    "\n",
    "    Inconsistent naming conventions or unclear variable and method names that make the code harder to understand and maintain."
   ]
  }
 ],
 "metadata": {
  "kernelspec": {
   "display_name": ".venv",
   "language": "python",
   "name": "python3"
  },
  "language_info": {
   "codemirror_mode": {
    "name": "ipython",
    "version": 3
   },
   "file_extension": ".py",
   "mimetype": "text/x-python",
   "name": "python",
   "nbconvert_exporter": "python",
   "pygments_lexer": "ipython3",
   "version": "3.11.3"
  },
  "orig_nbformat": 4
 },
 "nbformat": 4,
 "nbformat_minor": 2
}
