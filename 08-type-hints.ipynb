{
 "cells": [
  {
   "attachments": {},
   "cell_type": "markdown",
   "metadata": {},
   "source": [
    "# Type Hints"
   ]
  },
  {
   "attachments": {},
   "cell_type": "markdown",
   "metadata": {},
   "source": [
    "## Summary\n",
    "\n",
    "Type hints in Python are annotations that indicate the expected types of variables, function parameters, and return values. They are a form of static typing introduced in Python 3.5 and are used to provide additional information about the types used in the code.\n",
    "\n",
    "Some key points about type hints:\n",
    "- They are optional.\n",
    "- They are not enforced at runtime by Python interpreter.\n",
    "    - No type checking happens at runtime.\n",
    "    - Python remains dynamically typed.\n",
    "- They can be used by static checkers or IDEs to analyze code."
   ]
  },
  {
   "attachments": {},
   "cell_type": "markdown",
   "metadata": {},
   "source": [
    "## Function annotations\n",
    "\n",
    "In Python 3.0, [PEP 3107](https://peps.python.org/pep-3107/), also known as \"Function Annotations\", introduced a syntax for adding arbitrary metadata annotations to Python functions."
   ]
  },
  {
   "attachments": {},
   "cell_type": "markdown",
   "metadata": {},
   "source": [
    "### Basic syntax for function annotation\n",
    "\n",
    "In pseudo-grammar, parameters look like `identifier [: expression] [= expression]`. \n",
    "\n",
    "This means that:\n",
    "\n",
    "- Annotations always precede a parameter’s default value.\n",
    "- Both annotations and default values are optional.\n",
    "- Colons `:` are used to mark annotations.\n",
    "- Annotation expressions are evaluated when the function definition is executed."
   ]
  },
  {
   "cell_type": "code",
   "execution_count": 1,
   "metadata": {},
   "outputs": [],
   "source": [
    "def greet(name: str):\n",
    "    return \"Hello, \" + name"
   ]
  },
  {
   "attachments": {},
   "cell_type": "markdown",
   "metadata": {},
   "source": [
    "In this example, the `name` parameter of the `greet` function is annotated with the type `str`, indicating that it expects a string argument.\n",
    "\n",
    "To annotate a functions return value, the parameter list is followed by a literal `->` and a Python expression."
   ]
  },
  {
   "cell_type": "code",
   "execution_count": 2,
   "metadata": {},
   "outputs": [],
   "source": [
    "def greet(name: str) -> str:\n",
    "    return \"Hello, \" + name"
   ]
  },
  {
   "attachments": {},
   "cell_type": "markdown",
   "metadata": {},
   "source": [
    "The `-> str` annotation after the parameter list specifies that the function is expected to return a string."
   ]
  },
  {
   "attachments": {},
   "cell_type": "markdown",
   "metadata": {},
   "source": [
    "### Accessing function annotations\n",
    "\n",
    "A function annotation is available via the function's `__annotations__` attribute. There is a special key in the `__annotations__` mapping, \"return\". This key is present only if an annotation was supplied for the function’s return value."
   ]
  },
  {
   "cell_type": "code",
   "execution_count": 3,
   "metadata": {},
   "outputs": [
    {
     "data": {
      "text/plain": [
       "{'name': str, 'return': str}"
      ]
     },
     "execution_count": 3,
     "metadata": {},
     "output_type": "execute_result"
    }
   ],
   "source": [
    "greet.__annotations__"
   ]
  },
  {
   "attachments": {},
   "cell_type": "markdown",
   "metadata": {},
   "source": [
    "Note: `lambda`'s syntax doesn't support function annotation."
   ]
  },
  {
   "attachments": {},
   "cell_type": "markdown",
   "metadata": {},
   "source": [
    "## Gradual typing\n",
    "\n",
    "In Python 3.5, [PEP 484](https://peps.python.org/pep-0484/), also known as \"Type Hints,\" did introduce a gradual type system. Gradual typing allows one to annotate only part of a program, thus leverage desirable aspects of both dynamic and static typing.\n",
    "\n",
    "PEP 484 also introduced `typing` module, which is a built-in module in Python that provides standard definitions for types and tools to work with type hints and annotations.\n",
    "\n",
    "The proposal made in PEP 484 was inspired by (`mypy`)[https://mypy-lang.org/], which is an optional static type checker for Python."
   ]
  },
  {
   "attachments": {},
   "cell_type": "markdown",
   "metadata": {},
   "source": [
    "### Using `mypy` for type checking\n",
    "\n",
    "> Go to [type-hints/](./-type-hints/) to see the files used in this section.\n",
    "\n",
    "Ensure that `mypy` is installed."
   ]
  },
  {
   "cell_type": "raw",
   "metadata": {},
   "source": [
    "!pip install mypy"
   ]
  },
  {
   "attachments": {},
   "cell_type": "markdown",
   "metadata": {},
   "source": [
    "To begin type checking, run the `mypy` command on the `messages.py` module.\n"
   ]
  },
  {
   "cell_type": "code",
   "execution_count": 4,
   "metadata": {},
   "outputs": [
    {
     "name": "stdout",
     "output_type": "stream",
     "text": [
      "\u001b[1m\u001b[92mSuccess: no issues found in 1 source file\u001b[0m\n"
     ]
    }
   ],
   "source": [
    "!mypy ./type-hints/messages.py"
   ]
  },
  {
   "attachments": {},
   "cell_type": "markdown",
   "metadata": {},
   "source": [
    "`mypy` ignores functions without annotation by default. The command line option `--disallow-untyped-defs` makes `mypy` flag any function\n",
    "definition without type annotations or with incomplete type annotations for all its parameters and for its return value."
   ]
  },
  {
   "cell_type": "code",
   "execution_count": 5,
   "metadata": {},
   "outputs": [
    {
     "name": "stdout",
     "output_type": "stream",
     "text": [
      "type-hints\\messages.py:1: \u001b[1m\u001b[91merror:\u001b[0m Function is missing a type annotation  \u001b[0m\u001b[93m[no-untyped-def]\u001b[0m\n",
      "type-hints\\messages.py:26: \u001b[1m\u001b[91merror:\u001b[0m Function is missing a return type annotation  \u001b[0m\u001b[93m[no-untyped-def]\u001b[0m\n",
      "\u001b[1m\u001b[91mFound 2 errors in 1 file (checked 1 source file)\u001b[0m\n"
     ]
    }
   ],
   "source": [
    "!mypy --disallow-untyped-defs ./type-hints/messages.py"
   ]
  },
  {
   "attachments": {},
   "cell_type": "markdown",
   "metadata": {},
   "source": [
    "Rather than specifying configuration options through command-line arguments every time you run `mypy`, one can use `mypy.ini` file to establish a centralized location to define `mypy` configuration options.\n",
    "\n",
    "Here's an example `mypy.ini` file:"
   ]
  },
  {
   "attachments": {},
   "cell_type": "raw",
   "metadata": {},
   "source": [
    "[mypy]\n",
    "python_version=3.11\n",
    "warn_unused_configs = True\n",
    "disallow_incomplete_defs = True"
   ]
  },
  {
   "attachments": {},
   "cell_type": "markdown",
   "metadata": {},
   "source": [
    "## Additional resources\n",
    "\n",
    "- Fluent Python\n",
    "    - Chapter 8 - Type Hints in Functions\n",
    "    - Chapter 15 - More About Type Hints\n",
    "- Beyond the Basic Stuff with Python\n",
    "    - Chapter 11 - Comments, Docstrings and Type Hints\n",
    "- Introducin Python\n",
    "    - Chapter 19 - Be a Pythonista (p. 418)"
   ]
  }
 ],
 "metadata": {
  "kernelspec": {
   "display_name": ".venv",
   "language": "python",
   "name": "python3"
  },
  "language_info": {
   "codemirror_mode": {
    "name": "ipython",
    "version": 3
   },
   "file_extension": ".py",
   "mimetype": "text/x-python",
   "name": "python",
   "nbconvert_exporter": "python",
   "pygments_lexer": "ipython3",
   "version": "3.11.3"
  },
  "orig_nbformat": 4
 },
 "nbformat": 4,
 "nbformat_minor": 2
}
